{
  "cells": [
    {
      "cell_type": "code",
      "execution_count": 1,
      "metadata": {
        "id": "pH5nX3tSKlQU"
      },
      "outputs": [],
      "source": [
        "# For tips on running notebooks in Google Colab, see\n",
        "# https://pytorch.org/tutorials/beginner/colab\n",
        "%matplotlib inline"
      ]
    },
    {
      "cell_type": "markdown",
      "metadata": {
        "id": "ZP-VW6MnKlQX"
      },
      "source": [
        "\n",
        "[Learn the Basics](intro.html) ||\n",
        "[Quickstart](quickstart_tutorial.html) ||\n",
        "[Tensors](tensorqs_tutorial.html) ||\n",
        "[Datasets & DataLoaders](data_tutorial.html) ||\n",
        "[Transforms](transforms_tutorial.html) ||\n",
        "[Build Model](buildmodel_tutorial.html) ||\n",
        "[Autograd](autogradqs_tutorial.html) ||\n",
        "**Optimization** ||\n",
        "[Save & Load Model](saveloadrun_tutorial.html)\n",
        "\n",
        "# Optimizing Model Parameters\n",
        "\n",
        "Now that we have a model and data it's time to train, validate and test our model by optimizing its parameters on\n",
        "our data. Training a model is an iterative process; in each iteration the model makes a guess about the output, calculates\n",
        "the error in its guess (*loss*), collects the derivatives of the error with respect to its parameters (as we saw in\n",
        "the [previous section](autograd_tutorial.html)), and **optimizes** these parameters using gradient descent. For a more\n",
        "detailed walkthrough of this process, check out this video on [backpropagation from 3Blue1Brown](https://www.youtube.com/watch?v=tIeHLnjs5U8)_.\n",
        "\n",
        "## Prerequisite Code\n",
        "We load the code from the previous sections on [Datasets & DataLoaders](data_tutorial.html)\n",
        "and [Build Model](buildmodel_tutorial.html).\n"
      ]
    },
    {
      "cell_type": "code",
      "execution_count": 2,
      "metadata": {
        "id": "yobvqVNOKlQa",
        "outputId": "f17d285b-b276-471e-8d89-e694a979ff5d",
        "colab": {
          "base_uri": "https://localhost:8080/"
        }
      },
      "outputs": [
        {
          "output_type": "stream",
          "name": "stdout",
          "text": [
            "Downloading http://fashion-mnist.s3-website.eu-central-1.amazonaws.com/train-images-idx3-ubyte.gz\n",
            "Downloading http://fashion-mnist.s3-website.eu-central-1.amazonaws.com/train-images-idx3-ubyte.gz to data/FashionMNIST/raw/train-images-idx3-ubyte.gz\n"
          ]
        },
        {
          "output_type": "stream",
          "name": "stderr",
          "text": [
            "100%|██████████| 26421880/26421880 [00:01<00:00, 19860988.63it/s]\n"
          ]
        },
        {
          "output_type": "stream",
          "name": "stdout",
          "text": [
            "Extracting data/FashionMNIST/raw/train-images-idx3-ubyte.gz to data/FashionMNIST/raw\n",
            "\n",
            "Downloading http://fashion-mnist.s3-website.eu-central-1.amazonaws.com/train-labels-idx1-ubyte.gz\n",
            "Downloading http://fashion-mnist.s3-website.eu-central-1.amazonaws.com/train-labels-idx1-ubyte.gz to data/FashionMNIST/raw/train-labels-idx1-ubyte.gz\n"
          ]
        },
        {
          "output_type": "stream",
          "name": "stderr",
          "text": [
            "100%|██████████| 29515/29515 [00:00<00:00, 336928.33it/s]\n"
          ]
        },
        {
          "output_type": "stream",
          "name": "stdout",
          "text": [
            "Extracting data/FashionMNIST/raw/train-labels-idx1-ubyte.gz to data/FashionMNIST/raw\n",
            "\n",
            "Downloading http://fashion-mnist.s3-website.eu-central-1.amazonaws.com/t10k-images-idx3-ubyte.gz\n",
            "Downloading http://fashion-mnist.s3-website.eu-central-1.amazonaws.com/t10k-images-idx3-ubyte.gz to data/FashionMNIST/raw/t10k-images-idx3-ubyte.gz\n"
          ]
        },
        {
          "output_type": "stream",
          "name": "stderr",
          "text": [
            "100%|██████████| 4422102/4422102 [00:00<00:00, 6313570.12it/s]\n"
          ]
        },
        {
          "output_type": "stream",
          "name": "stdout",
          "text": [
            "Extracting data/FashionMNIST/raw/t10k-images-idx3-ubyte.gz to data/FashionMNIST/raw\n",
            "\n",
            "Downloading http://fashion-mnist.s3-website.eu-central-1.amazonaws.com/t10k-labels-idx1-ubyte.gz\n",
            "Downloading http://fashion-mnist.s3-website.eu-central-1.amazonaws.com/t10k-labels-idx1-ubyte.gz to data/FashionMNIST/raw/t10k-labels-idx1-ubyte.gz\n"
          ]
        },
        {
          "output_type": "stream",
          "name": "stderr",
          "text": [
            "100%|██████████| 5148/5148 [00:00<00:00, 23142847.79it/s]"
          ]
        },
        {
          "output_type": "stream",
          "name": "stdout",
          "text": [
            "Extracting data/FashionMNIST/raw/t10k-labels-idx1-ubyte.gz to data/FashionMNIST/raw\n",
            "\n"
          ]
        },
        {
          "output_type": "stream",
          "name": "stderr",
          "text": [
            "\n"
          ]
        }
      ],
      "source": [
        "import torch\n",
        "from torch import nn\n",
        "from torch.utils.data import DataLoader\n",
        "from torchvision import datasets\n",
        "from torchvision.transforms import ToTensor\n",
        "\n",
        "training_data = datasets.FashionMNIST(\n",
        "    root=\"data\",\n",
        "    train=True,\n",
        "    download=True,\n",
        "    transform=ToTensor()\n",
        ")\n",
        "\n",
        "test_data = datasets.FashionMNIST(\n",
        "    root=\"data\",\n",
        "    train=False,\n",
        "    download=True,\n",
        "    transform=ToTensor()\n",
        ")\n",
        "\n",
        "train_dataloader = DataLoader(training_data, batch_size=64)\n",
        "test_dataloader = DataLoader(test_data, batch_size=64)\n",
        "\n",
        "class NeuralNetwork(nn.Module):\n",
        "    def __init__(self):\n",
        "        super(NeuralNetwork, self).__init__()\n",
        "        self.flatten = nn.Flatten()\n",
        "        self.linear_relu_stack = nn.Sequential(\n",
        "            nn.Linear(28*28, 512),\n",
        "            nn.ReLU(),\n",
        "            nn.Linear(512, 512),\n",
        "            nn.ReLU(),\n",
        "            nn.Linear(512, 10),\n",
        "        )\n",
        "\n",
        "    def forward(self, x):\n",
        "        x = self.flatten(x)\n",
        "        logits = self.linear_relu_stack(x)\n",
        "        return logits\n",
        "\n",
        "model = NeuralNetwork()"
      ]
    },
    {
      "cell_type": "markdown",
      "metadata": {
        "id": "qQCAUymLKlQb"
      },
      "source": [
        "## Hyperparameters\n",
        "\n",
        "Hyperparameters are adjustable parameters that let you control the model optimization process.\n",
        "Different hyperparameter values can impact model training and convergence rates\n",
        "([read more](https://pytorch.org/tutorials/beginner/hyperparameter_tuning_tutorial.html)_ about hyperparameter tuning)\n",
        "\n",
        "We define the following hyperparameters for training:\n",
        " - **Number of Epochs** - the number times to iterate over the dataset\n",
        " - **Batch Size** - the number of data samples propagated through the network before the parameters are updated\n",
        " - **Learning Rate** - how much to update models parameters at each batch/epoch. Smaller values yield slow learning speed, while large values may result in unpredictable behavior during training.\n",
        "\n",
        "\n"
      ]
    },
    {
      "cell_type": "code",
      "execution_count": 3,
      "metadata": {
        "id": "XGxWlqV2KlQd"
      },
      "outputs": [],
      "source": [
        "learning_rate = 1e-3\n",
        "batch_size = 64\n",
        "epochs = 5"
      ]
    },
    {
      "cell_type": "markdown",
      "metadata": {
        "id": "-QrtHy9jKlQe"
      },
      "source": [
        "## Optimization Loop\n",
        "\n",
        "Once we set our hyperparameters, we can then train and optimize our model with an optimization loop. Each\n",
        "iteration of the optimization loop is called an **epoch**.\n",
        "\n",
        "Each epoch consists of two main parts:\n",
        " - **The Train Loop** - iterate over the training dataset and try to converge to optimal parameters.\n",
        " - **The Validation/Test Loop** - iterate over the test dataset to check if model performance is improving.\n",
        "\n",
        "Let's briefly familiarize ourselves with some of the concepts used in the training loop. Jump ahead to\n",
        "see the `full-impl-label` of the optimization loop.\n",
        "\n",
        "### Loss Function\n",
        "\n",
        "When presented with some training data, our untrained network is likely not to give the correct\n",
        "answer. **Loss function** measures the degree of dissimilarity of obtained result to the target value,\n",
        "and it is the loss function that we want to minimize during training. To calculate the loss we make a\n",
        "prediction using the inputs of our given data sample and compare it against the true data label value.\n",
        "\n",
        "Common loss functions include [nn.MSELoss](https://pytorch.org/docs/stable/generated/torch.nn.MSELoss.html#torch.nn.MSELoss) (Mean Square Error) for regression tasks, and\n",
        "[nn.NLLLoss](https://pytorch.org/docs/stable/generated/torch.nn.NLLLoss.html#torch.nn.NLLLoss) (Negative Log Likelihood) for classification.\n",
        "[nn.CrossEntropyLoss](https://pytorch.org/docs/stable/generated/torch.nn.CrossEntropyLoss.html#torch.nn.CrossEntropyLoss) combines ``nn.LogSoftmax`` and ``nn.NLLLoss``.\n",
        "\n",
        "We pass our model's output logits to ``nn.CrossEntropyLoss``, which will normalize the logits and compute the prediction error.\n",
        "\n"
      ]
    },
    {
      "cell_type": "code",
      "execution_count": 4,
      "metadata": {
        "id": "0gzBH1hPKlQf"
      },
      "outputs": [],
      "source": [
        "# Initialize the loss function\n",
        "loss_fn = nn.CrossEntropyLoss()"
      ]
    },
    {
      "cell_type": "markdown",
      "metadata": {
        "id": "D_L-AKECKlQg"
      },
      "source": [
        "### Optimizer\n",
        "\n",
        "Optimization is the process of adjusting model parameters to reduce model error in each training step. **Optimization algorithms** define how this process is performed (in this example we use Stochastic Gradient Descent).\n",
        "All optimization logic is encapsulated in  the ``optimizer`` object. Here, we use the SGD optimizer; additionally, there are many [different optimizers](https://pytorch.org/docs/stable/optim.html)\n",
        "available in PyTorch such as ADAM and RMSProp, that work better for different kinds of models and data.\n",
        "\n",
        "We initialize the optimizer by registering the model's parameters that need to be trained, and passing in the learning rate hyperparameter.\n",
        "\n"
      ]
    },
    {
      "cell_type": "code",
      "execution_count": 5,
      "metadata": {
        "id": "gT3yIDuiKlQh"
      },
      "outputs": [],
      "source": [
        "optimizer = torch.optim.SGD(model.parameters(), lr=learning_rate)"
      ]
    },
    {
      "cell_type": "markdown",
      "metadata": {
        "id": "18Je6l_aKlQi"
      },
      "source": [
        "Inside the training loop, optimization happens in three steps:\n",
        " * Call ``optimizer.zero_grad()`` to reset the gradients of model parameters. Gradients by default add up; to prevent double-counting, we explicitly zero them at each iteration.\n",
        " * Backpropagate the prediction loss with a call to ``loss.backward()``. PyTorch deposits the gradients of the loss w.r.t. each parameter.\n",
        " * Once we have our gradients, we call ``optimizer.step()`` to adjust the parameters by the gradients collected in the backward pass.\n",
        "\n"
      ]
    },
    {
      "cell_type": "markdown",
      "metadata": {
        "id": "I5mHOH9SKlQj"
      },
      "source": [
        "\n",
        "## Full Implementation\n",
        "We define ``train_loop`` that loops over our optimization code, and ``test_loop`` that\n",
        "evaluates the model's performance against our test data.\n",
        "\n"
      ]
    },
    {
      "cell_type": "code",
      "execution_count": 6,
      "metadata": {
        "id": "V3wwK1-yKlQk"
      },
      "outputs": [],
      "source": [
        "def train_loop(dataloader, model, loss_fn, optimizer):\n",
        "    size = len(dataloader.dataset)\n",
        "    # Set the model to training mode - important for batch normalization and dropout layers\n",
        "    # Unnecessary in this situation but added for best practices\n",
        "    model.train()\n",
        "    for batch, (X, y) in enumerate(dataloader):\n",
        "        # Compute prediction and loss\n",
        "        pred = model(X)\n",
        "        loss = loss_fn(pred, y)\n",
        "\n",
        "        # Backpropagation\n",
        "        loss.backward()\n",
        "        optimizer.step()\n",
        "        optimizer.zero_grad()\n",
        "\n",
        "        if batch % 100 == 0:\n",
        "            loss, current = loss.item(), (batch + 1) * len(X)\n",
        "            print(f\"loss: {loss:>7f}  [{current:>5d}/{size:>5d}]\")\n",
        "\n",
        "\n",
        "def test_loop(dataloader, model, loss_fn):\n",
        "    # Set the model to evaluation mode - important for batch normalization and dropout layers\n",
        "    # Unnecessary in this situation but added for best practices\n",
        "    model.eval()\n",
        "    size = len(dataloader.dataset)\n",
        "    num_batches = len(dataloader)\n",
        "    test_loss, correct = 0, 0\n",
        "\n",
        "    # Evaluating the model with torch.no_grad() ensures that no gradients are computed during test mode\n",
        "    # also serves to reduce unnecessary gradient computations and memory usage for tensors with requires_grad=True\n",
        "    with torch.no_grad():\n",
        "        for X, y in dataloader:\n",
        "            pred = model(X)\n",
        "            test_loss += loss_fn(pred, y).item()\n",
        "            correct += (pred.argmax(1) == y).type(torch.float).sum().item()\n",
        "\n",
        "    test_loss /= num_batches\n",
        "    correct /= size\n",
        "    print(f\"Test Error: \\n Accuracy: {(100*correct):>0.1f}%, Avg loss: {test_loss:>8f} \\n\")"
      ]
    },
    {
      "cell_type": "markdown",
      "metadata": {
        "id": "hXFK3azVKlQk"
      },
      "source": [
        "We initialize the loss function and optimizer, and pass it to ``train_loop`` and ``test_loop``.\n",
        "Feel free to increase the number of epochs to track the model's improving performance.\n",
        "\n"
      ]
    },
    {
      "cell_type": "code",
      "execution_count": 7,
      "metadata": {
        "id": "rELjN6ZyKlQk",
        "outputId": "5cd60b5c-e509-44ad-8235-caeb8edb2d78",
        "colab": {
          "base_uri": "https://localhost:8080/"
        }
      },
      "outputs": [
        {
          "output_type": "stream",
          "name": "stdout",
          "text": [
            "Epoch 1\n",
            "-------------------------------\n",
            "loss: 2.294213  [   64/60000]\n",
            "loss: 2.275902  [ 6464/60000]\n",
            "loss: 2.263249  [12864/60000]\n",
            "loss: 2.264690  [19264/60000]\n",
            "loss: 2.240623  [25664/60000]\n",
            "loss: 2.218025  [32064/60000]\n",
            "loss: 2.223931  [38464/60000]\n",
            "loss: 2.193449  [44864/60000]\n",
            "loss: 2.194834  [51264/60000]\n",
            "loss: 2.161094  [57664/60000]\n",
            "Test Error: \n",
            " Accuracy: 46.1%, Avg loss: 2.149979 \n",
            "\n",
            "Epoch 2\n",
            "-------------------------------\n",
            "loss: 2.160123  [   64/60000]\n",
            "loss: 2.142215  [ 6464/60000]\n",
            "loss: 2.084358  [12864/60000]\n",
            "loss: 2.110009  [19264/60000]\n",
            "loss: 2.046535  [25664/60000]\n",
            "loss: 2.002146  [32064/60000]\n",
            "loss: 2.026707  [38464/60000]\n",
            "loss: 1.951789  [44864/60000]\n",
            "loss: 1.966485  [51264/60000]\n",
            "loss: 1.885999  [57664/60000]\n",
            "Test Error: \n",
            " Accuracy: 58.3%, Avg loss: 1.879824 \n",
            "\n",
            "Epoch 3\n",
            "-------------------------------\n",
            "loss: 1.911614  [   64/60000]\n",
            "loss: 1.877926  [ 6464/60000]\n",
            "loss: 1.760894  [12864/60000]\n",
            "loss: 1.806751  [19264/60000]\n",
            "loss: 1.683174  [25664/60000]\n",
            "loss: 1.656870  [32064/60000]\n",
            "loss: 1.667920  [38464/60000]\n",
            "loss: 1.579824  [44864/60000]\n",
            "loss: 1.606553  [51264/60000]\n",
            "loss: 1.491371  [57664/60000]\n",
            "Test Error: \n",
            " Accuracy: 60.4%, Avg loss: 1.513832 \n",
            "\n",
            "Epoch 4\n",
            "-------------------------------\n",
            "loss: 1.576449  [   64/60000]\n",
            "loss: 1.546376  [ 6464/60000]\n",
            "loss: 1.400082  [12864/60000]\n",
            "loss: 1.467449  [19264/60000]\n",
            "loss: 1.334464  [25664/60000]\n",
            "loss: 1.354469  [32064/60000]\n",
            "loss: 1.352288  [38464/60000]\n",
            "loss: 1.292625  [44864/60000]\n",
            "loss: 1.326350  [51264/60000]\n",
            "loss: 1.214374  [57664/60000]\n",
            "Test Error: \n",
            " Accuracy: 62.8%, Avg loss: 1.248877 \n",
            "\n",
            "Epoch 5\n",
            "-------------------------------\n",
            "loss: 1.320623  [   64/60000]\n",
            "loss: 1.310428  [ 6464/60000]\n",
            "loss: 1.149019  [12864/60000]\n",
            "loss: 1.247089  [19264/60000]\n",
            "loss: 1.109104  [25664/60000]\n",
            "loss: 1.155597  [32064/60000]\n",
            "loss: 1.161994  [38464/60000]\n",
            "loss: 1.113329  [44864/60000]\n",
            "loss: 1.153471  [51264/60000]\n",
            "loss: 1.056454  [57664/60000]\n",
            "Test Error: \n",
            " Accuracy: 64.3%, Avg loss: 1.084734 \n",
            "\n",
            "Epoch 6\n",
            "-------------------------------\n",
            "loss: 1.150463  [   64/60000]\n",
            "loss: 1.160212  [ 6464/60000]\n",
            "loss: 0.981667  [12864/60000]\n",
            "loss: 1.110997  [19264/60000]\n",
            "loss: 0.970812  [25664/60000]\n",
            "loss: 1.021219  [32064/60000]\n",
            "loss: 1.046515  [38464/60000]\n",
            "loss: 0.999178  [44864/60000]\n",
            "loss: 1.040582  [51264/60000]\n",
            "loss: 0.959115  [57664/60000]\n",
            "Test Error: \n",
            " Accuracy: 66.0%, Avg loss: 0.979051 \n",
            "\n",
            "Epoch 7\n",
            "-------------------------------\n",
            "loss: 1.031747  [   64/60000]\n",
            "loss: 1.062616  [ 6464/60000]\n",
            "loss: 0.866652  [12864/60000]\n",
            "loss: 1.021152  [19264/60000]\n",
            "loss: 0.884080  [25664/60000]\n",
            "loss: 0.926756  [32064/60000]\n",
            "loss: 0.972101  [38464/60000]\n",
            "loss: 0.924281  [44864/60000]\n",
            "loss: 0.961948  [51264/60000]\n",
            "loss: 0.894688  [57664/60000]\n",
            "Test Error: \n",
            " Accuracy: 67.1%, Avg loss: 0.907036 \n",
            "\n",
            "Epoch 8\n",
            "-------------------------------\n",
            "loss: 0.944362  [   64/60000]\n",
            "loss: 0.994586  [ 6464/60000]\n",
            "loss: 0.784478  [12864/60000]\n",
            "loss: 0.957547  [19264/60000]\n",
            "loss: 0.826839  [25664/60000]\n",
            "loss: 0.857732  [32064/60000]\n",
            "loss: 0.919821  [38464/60000]\n",
            "loss: 0.873553  [44864/60000]\n",
            "loss: 0.904797  [51264/60000]\n",
            "loss: 0.848490  [57664/60000]\n",
            "Test Error: \n",
            " Accuracy: 68.4%, Avg loss: 0.855199 \n",
            "\n",
            "Epoch 9\n",
            "-------------------------------\n",
            "loss: 0.877338  [   64/60000]\n",
            "loss: 0.943595  [ 6464/60000]\n",
            "loss: 0.723231  [12864/60000]\n",
            "loss: 0.910030  [19264/60000]\n",
            "loss: 0.786540  [25664/60000]\n",
            "loss: 0.805538  [32064/60000]\n",
            "loss: 0.880316  [38464/60000]\n",
            "loss: 0.838005  [44864/60000]\n",
            "loss: 0.861931  [51264/60000]\n",
            "loss: 0.813369  [57664/60000]\n",
            "Test Error: \n",
            " Accuracy: 69.6%, Avg loss: 0.816000 \n",
            "\n",
            "Epoch 10\n",
            "-------------------------------\n",
            "loss: 0.823656  [   64/60000]\n",
            "loss: 0.902988  [ 6464/60000]\n",
            "loss: 0.675835  [12864/60000]\n",
            "loss: 0.873261  [19264/60000]\n",
            "loss: 0.756207  [25664/60000]\n",
            "loss: 0.765307  [32064/60000]\n",
            "loss: 0.848201  [38464/60000]\n",
            "loss: 0.811759  [44864/60000]\n",
            "loss: 0.828620  [51264/60000]\n",
            "loss: 0.785273  [57664/60000]\n",
            "Test Error: \n",
            " Accuracy: 70.7%, Avg loss: 0.784896 \n",
            "\n",
            "Done!\n"
          ]
        }
      ],
      "source": [
        "loss_fn = nn.CrossEntropyLoss()\n",
        "optimizer = torch.optim.SGD(model.parameters(), lr=learning_rate)\n",
        "\n",
        "epochs = 10\n",
        "for t in range(epochs):\n",
        "    print(f\"Epoch {t+1}\\n-------------------------------\")\n",
        "    train_loop(train_dataloader, model, loss_fn, optimizer)\n",
        "    test_loop(test_dataloader, model, loss_fn)\n",
        "print(\"Done!\")"
      ]
    },
    {
      "cell_type": "markdown",
      "metadata": {
        "id": "u8Td5CPTKlQl"
      },
      "source": [
        "## Further Reading\n",
        "- [Loss Functions](https://pytorch.org/docs/stable/nn.html#loss-functions)\n",
        "- [torch.optim](https://pytorch.org/docs/stable/optim.html)\n",
        "- [Warmstart Training a Model](https://pytorch.org/tutorials/recipes/recipes/warmstarting_model_using_parameters_from_a_different_model.html)\n",
        "\n",
        "\n"
      ]
    }
  ],
  "metadata": {
    "kernelspec": {
      "display_name": "Python 3",
      "language": "python",
      "name": "python3"
    },
    "language_info": {
      "codemirror_mode": {
        "name": "ipython",
        "version": 3
      },
      "file_extension": ".py",
      "mimetype": "text/x-python",
      "name": "python",
      "nbconvert_exporter": "python",
      "pygments_lexer": "ipython3",
      "version": "3.10.10"
    },
    "colab": {
      "provenance": []
    }
  },
  "nbformat": 4,
  "nbformat_minor": 0
}